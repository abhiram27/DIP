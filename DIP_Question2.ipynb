{
  "nbformat": 4,
  "nbformat_minor": 0,
  "metadata": {
    "colab": {
      "provenance": [],
      "authorship_tag": "ABX9TyOl8op+EllK9KKptzfFQJda",
      "include_colab_link": true
    },
    "kernelspec": {
      "name": "python3",
      "display_name": "Python 3"
    },
    "language_info": {
      "name": "python"
    }
  },
  "cells": [
    {
      "cell_type": "markdown",
      "metadata": {
        "id": "view-in-github",
        "colab_type": "text"
      },
      "source": [
        "<a href=\"https://colab.research.google.com/github/abhiram27/DIP/blob/main/DIP_Question2.ipynb\" target=\"_parent\"><img src=\"https://colab.research.google.com/assets/colab-badge.svg\" alt=\"Open In Colab\"/></a>"
      ]
    },
    {
      "cell_type": "code",
      "execution_count": null,
      "metadata": {
        "id": "oD-48aGhHxCg"
      },
      "outputs": [],
      "source": [
        "from PIL import Image\n",
        "import numpy as np\n",
        "\n",
        "def floyd_steinberg_dithering(image):\n",
        "    # Convert image to grayscale\n",
        "    img = image.convert(\"L\")\n",
        "    pixels = np.array(img, dtype=float) # Convert to float for calculations\n",
        "    rows, cols = pixels.shape\n",
        "    # Loop through each pixel\n",
        "    for y in range(rows):\n",
        "        for x in range(cols):\n",
        "            old_pixel = pixels[y, x]\n",
        "            new_pixel = 255 if old_pixel > 127 else 0\n",
        "            pixels[y, x] = new_pixel\n",
        "            quant_error = old_pixel - new_pixel\n",
        "            # Distribute the quantization error\n",
        "            if x + 1 < cols:\n",
        "                pixels[y, x + 1] += quant_error * 7 / 16.0\n",
        "            if y + 1 < rows:\n",
        "                if x - 1 >= 0:\n",
        "                    pixels[y + 1, x - 1] += quant_error * 3 / 16.0\n",
        "                pixels[y + 1, x] += quant_error * 5 / 16.0\n",
        "                if x + 1 < cols:\n",
        "                    pixels[y + 1, x + 1] += quant_error * 1 / 16.0\n",
        "    # Clip the pixel values to the valid range [0, 255]\n",
        "    pixels = np.clip(pixels, 0, 255)\n",
        "    return Image.fromarray(pixels.astype(np.uint8))\n",
        "\n",
        "# Load the image and apply Floyd-Steinberg dithering\n",
        "image = Image.open('apple.png') # Replace 'image.jpg' with your image file path\n",
        "fs_dithered_image = floyd_steinberg_dithering(image)\n",
        "# Show the resulting image\n",
        "fs_dithered_image.show()\n",
        "# Optionally, save the dithered image\n",
        "fs_dithered_image.save('fs_dithered_image.png')"
      ]
    },
    {
      "cell_type": "code",
      "source": [
        "from PIL import Image\n",
        "import numpy as np\n",
        "\n",
        "def jarvis_judice_ninke_dithering(image):\n",
        "    # Convert image to grayscale\n",
        "    img = image.convert(\"L\")\n",
        "    pixels = np.array(img, dtype=float)\n",
        "    # Get dimensions of the image\n",
        "    rows, cols = pixels.shape\n",
        "    # Define Jarvis-Judice-Ninke filter matrix (error diffusion kernel)\n",
        "    kernel = np.array([[0, 0, 0, 7, 5],\n",
        "                       [3, 5, 7, 5, 3],\n",
        "                       [1, 3, 5, 3, 1]]) / 48.0\n",
        "    # Loop through each pixel\n",
        "    for y in range(rows):\n",
        "        for x in range(cols):\n",
        "            old_pixel = pixels[y, x]\n",
        "            new_pixel = 255 * (old_pixel // 128)\n",
        "            pixels[y, x] = new_pixel\n",
        "            quant_error = old_pixel - new_pixel\n",
        "            # Diffuse the quantization error according to the kernel\n",
        "            for ky in range(3):\n",
        "                for kx in range(5):\n",
        "                    ny = y + ky\n",
        "                    nx = x + kx - 2 # Center the kernel over the current pixel\n",
        "                    if ny < rows and 0 <= nx < cols:\n",
        "                        pixels[ny, nx] += quant_error * kernel[ky, kx]\n",
        "    # Convert the result back to an image and return it\n",
        "    return Image.fromarray(np.clip(pixels, 0, 255).astype(np.uint8))\n",
        "\n",
        "# Load the image and apply Jarvis-Judice-Ninke dithering\n",
        "image = Image.open('apple.png') # Replace 'image.jpg' with your image file path\n",
        "jjn_dithered_image = jarvis_judice_ninke_dithering(image)\n",
        "# Show the resulting image\n",
        "jjn_dithered_image.show()\n",
        "# Optionally, save the dithered image\n",
        "jjn_dithered_image.save('jjn_dithered_image.png')"
      ],
      "metadata": {
        "id": "PQKKXdnTIfrh"
      },
      "execution_count": null,
      "outputs": []
    }
  ]
}